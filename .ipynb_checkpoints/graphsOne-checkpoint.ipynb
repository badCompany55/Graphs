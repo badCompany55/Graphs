{
 "cells": [
  {
   "cell_type": "markdown",
   "metadata": {},
   "source": [
    "# Graphs\n",
    "## Day One\n",
    "1. Graphs are representations of networks\n",
    "    * examples:\n",
    "        1. facebook\n",
    "        2. social networks\n",
    "        3. ext.\n",
    "2. Graphs contain Verticies and Nodes\n",
    "    * Edges are the paths\n",
    "        1. single path / unidirectional / directed\n",
    "        2. dual path / bidirectional / undirected\n",
    "    * Nodes / verticies are the actual data points\n",
    "3. Strongly connect components\n",
    "    * components connect to many other components"
   ]
  },
  {
   "cell_type": "markdown",
   "metadata": {},
   "source": [
    "### Traversal\n",
    "1. going from one node to another\n",
    "2. no duplicates\n",
    "3. __DEPTH FIRST__\n",
    "4. __BREATH FIRST__\n",
    "    * DEPTH AND BREATH are basically the same. \n",
    "    * Depth pulls from the start \"enqueue\"\n",
    "    * Breath pull from the end \"pop\"\n",
    "    * __Neither of these can take weights into account__\n",
    "\n",
    "#### __Breath First__\n",
    "![alt text][df]\n",
    "\n",
    "[df]: ./objectives/breadth-first-search/img/bfs-visit-order.png"
   ]
  },
  {
   "cell_type": "code",
   "execution_count": null,
   "metadata": {},
   "outputs": [],
   "source": [
    "def bft(start_node):\n",
    "    #make a queue, keeps track of nodes we are about to visit in line \n",
    "        # makes sure we don't visit a node twice\n",
    "    \n",
    "    q = Queue()\n",
    "        \n",
    "    # make a set, track all the nodes we have already visited\n",
    "    \n",
    "    visited = set()\n",
    "    \n",
    "    # enqueue the start node\n",
    "    q.enqueue(start_node)\n",
    "    \n",
    "    \n",
    "    # while queue isn't evpty:\n",
    "        #deqeue whatever is at the front, this becomes our current node\n",
    "        current_node = q.dequeue()\n",
    "        \n",
    "        # node isn't in visited\n",
    "            # mark the current node as visited by putting it in our visited set set\n",
    "            \n",
    "        # get all of the current node's friends / neighbors\n",
    "            # for each of those friends:\n",
    "                # put them in the queue to be visited\n",
    "    "
   ]
  },
  {
   "cell_type": "markdown",
   "metadata": {},
   "source": [
    "#### Depth First\n",
    "\n",
    "![alt text][df]\n",
    "\n",
    "[df]: ./objectives/depth-first-search/img/dfs-visit-order.png"
   ]
  },
  {
   "cell_type": "code",
   "execution_count": null,
   "metadata": {},
   "outputs": [],
   "source": [
    "def dft(start_node):\n",
    "    #make a stack, for the nodes we are about to visit\n",
    "    \n",
    "    stack = []\n",
    "    #make a set for visited nodes\n",
    "    \n",
    "    visited = set()\n",
    "    \n",
    "    #put the start node on the stack\n",
    "    \n",
    "    stack.push(start_node)\n",
    "    # while stack isn't empty\n",
    "    while len(stack):\n",
    "        #pop off what is on top level os stack, this is the current node\n",
    "        \n",
    "        current_node = stack.pop()\n",
    "        \n",
    "    #if current node has not been visited:\n",
    "    \n",
    "    if current_node not in visited:\n",
    "        #mark the current node as visited, put in set\n",
    "        \n",
    "        visited.add(current_node)\n",
    "        \n",
    "        #get all of the current node's friends:\n",
    "        neighbors = getNeighbors()\n",
    "    \n",
    "        #for each friend\n",
    "        for n in neighbors:\n",
    "            \n",
    "            #put them into our stack to be visited\n",
    "            \n",
    "            stack.append(n)"
   ]
  },
  {
   "cell_type": "markdown",
   "metadata": {},
   "source": [
    "#### Guided Homework Day 1"
   ]
  },
  {
   "cell_type": "code",
   "execution_count": 2,
   "metadata": {},
   "outputs": [],
   "source": [
    "def add_vertex(self, vertex):\n",
    "    self.vertices[vertex] = set()\n",
    "    \n",
    "def add_edge(self, v1, v2):\n",
    "    set_of_friends = self.vertices[v1]\n",
    "    set_of_friends.add(v2)"
   ]
  }
 ],
 "metadata": {
  "kernelspec": {
   "display_name": "Python 3",
   "language": "python",
   "name": "python3"
  },
  "language_info": {
   "codemirror_mode": {
    "name": "ipython",
    "version": 3
   },
   "file_extension": ".py",
   "mimetype": "text/x-python",
   "name": "python",
   "nbconvert_exporter": "python",
   "pygments_lexer": "ipython3",
   "version": "3.7.3"
  }
 },
 "nbformat": 4,
 "nbformat_minor": 4
}
