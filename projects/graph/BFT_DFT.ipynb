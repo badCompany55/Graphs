{
 "cells": [
  {
   "cell_type": "markdown",
   "metadata": {},
   "source": [
    "## Notes and Solutions BFT and DFT Seach\n",
    "\n",
    "### Classes for Queue and Stack"
   ]
  },
  {
   "cell_type": "markdown",
   "metadata": {},
   "source": [
    "1. ### Queue\n",
    "    * Queue is first in first out\n",
    "        * The first oldest value in the queue is the next one out"
   ]
  },
  {
   "cell_type": "code",
   "execution_count": 4,
   "metadata": {},
   "outputs": [],
   "source": [
    "class Queue():\n",
    "    # create storage component on initialization\n",
    "    \n",
    "    def __init__(self):\n",
    "        self.queue = [] \n",
    "        \n",
    "    # add values to the end of the queue\n",
    "    \n",
    "    def enqueue(self, value):\n",
    "        self.queue.append(value)\n",
    "        \n",
    "    # remove value from the beginning of the queue\n",
    "    \n",
    "    def dequeue(self):\n",
    "        if self.size() > 0:\n",
    "            return self.queue.pop(0)\n",
    "        else:\n",
    "            return None\n",
    "        \n",
    "    # size method that returns the length\n",
    "    \n",
    "    def size(self):\n",
    "        return len(self.queue)\n",
    "\n",
    "q = Queue()"
   ]
  },
  {
   "cell_type": "markdown",
   "metadata": {},
   "source": [
    "2. ### Stack\n",
    "    * Stack is last in first out\n",
    "        * The last value in is the first value out\n"
   ]
  },
  {
   "cell_type": "code",
   "execution_count": 5,
   "metadata": {},
   "outputs": [],
   "source": [
    "class Stack():\n",
    "    # Create storage component on initialization\n",
    "    \n",
    "    def __init__(self):\n",
    "        self.stack = []\n",
    "        \n",
    "    # add value to the end of the stack\n",
    "    \n",
    "    def push(self, value):\n",
    "        self.stack.push(value)\n",
    "        \n",
    "    # remove value from the end of the \n",
    "    \n",
    "    def pop(self):\n",
    "        if self.size() > 0:\n",
    "            self.stack.pop()\n",
    "        else:\n",
    "            return None\n",
    "        \n",
    "    # size method that returns the length\n",
    "    \n",
    "    def size(self):\n",
    "        return len(self.stack)\n",
    "    \n",
    "stack = Stack()"
   ]
  },
  {
   "cell_type": "markdown",
   "metadata": {},
   "source": [
    "3. ### Graph class implementation\n",
    "    * This will contain all the methods needed for the graph. This included the following\n",
    "        1. add_vertex __method to add data point to the graph__\n",
    "        2. add_edge __adds path/connection between points__\n",
    "        3. bft __bredth first implementation__\n",
    "        4. dft __depth first implementation__\n",
    "        5. dft recursive __recursive implementation__\n",
    "        6. bfs __bredth first search returning the shortest path__\n",
    "        7. dfs __depth first search returning the shortest path__"
   ]
  },
  {
   "cell_type": "code",
   "execution_count": 18,
   "metadata": {},
   "outputs": [],
   "source": [
    "class Graph():\n",
    "    \n",
    "    # storage component to store the data points\n",
    "    \n",
    "    def __init__(self):\n",
    "        self.vertices = {}\n",
    "        \n",
    "    # add a vertex, will use sets to store them. Better lookup functionality and speed\n",
    "    \n",
    "    def add_vertex(self, vertex):\n",
    "        self.vertices[vertex] = set()\n",
    "        \n",
    "    # add a connection between two vertices\n",
    "    \n",
    "    def add_edge(self, v1, v2):\n",
    "        \n",
    "        # select the vertex from vertices(\"object\")\n",
    "        # use the .add method to add a value to a set\n",
    "        self.vertices[v1].add(v2)\n",
    "        \n",
    "    # bredth first implementation\n",
    "    \n",
    "    def bft(self, starting_vertex):\n",
    "        \n",
    "        # bft is first in first out.\n",
    "        # the oldest value is the next one out\n",
    "        # Queue is well suited for this\n",
    "        \n",
    "        #initialize the Queue\n",
    "        \n",
    "        # Keep track of the data points/nodes/vertices/ that have been visted\n",
    "        # goint to use a set for this\n",
    "        visited = set()\n",
    "        \n",
    "        # add the starting_vertex to the queue to start it off\n",
    "        q.enqueue(starting_vertex)\n",
    "        \n",
    "        # get the size for use in a while loop\n",
    "        size = q.size()\n",
    "        \n",
    "        # a set orders the values\n",
    "        # if you want to see the order of how the nodes were visited, put them in a list\n",
    "        return_val = []\n",
    "        \n",
    "        # Perform said operations while there is a value in the Queue\n",
    "        while size > 0:\n",
    "            # set a value the value from dequeue\n",
    "            current_node = q.dequeue()\n",
    "            \n",
    "            # check to see if the current_node value has been visted yet\n",
    "            if current_node not in visited:\n",
    "                # add the current_node to visited\n",
    "                visited.add(current_node)\n",
    "                return_val.append(current_node)\n",
    "                \n",
    "                #get the neighbors of the current_node\n",
    "                edges = self.vertices[current_node]\n",
    "                \n",
    "                #loop through neighbors and add them to the queue for processing in the while loop\n",
    "                for e in edges:\n",
    "                    q.enqueue(e)\n",
    "                    \n",
    "            # set new size of the queue\n",
    "            size = q.size()\n",
    "            \n",
    "        print(return_val)\n",
    "        \n",
    "graph = Graph()"
   ]
  },
  {
   "cell_type": "code",
   "execution_count": 19,
   "metadata": {},
   "outputs": [
    {
     "name": "stdout",
     "output_type": "stream",
     "text": [
      "{1: {2}, 2: {3, 4}, 3: {5}, 4: {6, 7}, 5: {3}, 6: {3}, 7: {1, 6}}\n",
      "[1, 2, 3, 4, 5, 6, 7]\n"
     ]
    }
   ],
   "source": [
    "graph.add_vertex(1)\n",
    "graph.add_vertex(2)\n",
    "graph.add_vertex(3)\n",
    "graph.add_vertex(4)\n",
    "graph.add_vertex(5)\n",
    "graph.add_vertex(6)\n",
    "\n",
    "graph.add_vertex(7)\n",
    "graph.add_edge(5, 3)\n",
    "graph.add_edge(6, 3)\n",
    "graph.add_edge(7, 1)\n",
    "graph.add_edge(4, 7)\n",
    "graph.add_edge(1, 2)\n",
    "graph.add_edge(7, 6)\n",
    "graph.add_edge(2, 4)\n",
    "graph.add_edge(3, 5)\n",
    "graph.add_edge(2, 3)\n",
    "graph.add_edge(4, 6)\n",
    "\n",
    "\n",
    "print(graph.vertices)\n",
    "\n",
    "graph.bft(1)\n"
   ]
  },
  {
   "cell_type": "code",
   "execution_count": null,
   "metadata": {},
   "outputs": [],
   "source": []
  }
 ],
 "metadata": {
  "kernelspec": {
   "display_name": "Python 3",
   "language": "python",
   "name": "python3"
  },
  "language_info": {
   "codemirror_mode": {
    "name": "ipython",
    "version": 3
   },
   "file_extension": ".py",
   "mimetype": "text/x-python",
   "name": "python",
   "nbconvert_exporter": "python",
   "pygments_lexer": "ipython3",
   "version": "3.7.3"
  }
 },
 "nbformat": 4,
 "nbformat_minor": 4
}
