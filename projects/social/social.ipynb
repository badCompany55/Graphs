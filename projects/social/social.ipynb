{
 "cells": [
  {
   "cell_type": "markdown",
   "metadata": {},
   "source": [
    "## Create Populate Graph\n",
    "1. Takes in number of user and an average number of friends that  each user will have.\n",
    "2. Creates that number of users and a randomly distributed friendships between those users\n",
    "3. The number of users must be greater than the average number of friendships."
   ]
  },
  {
   "cell_type": "code",
   "execution_count": null,
   "metadata": {},
   "outputs": [],
   "source": [
    "from itertools import combinations\n",
    "import random\n",
    "\n",
    "def populate_graph(self, num_users, avg_friendships):\n",
    "    # Reset Graph\n",
    "    self.lastID = 0\n",
    "    self.users = {}\n",
    "    self.friendships = {}\n",
    "    \n",
    "    # Add users\n",
    "    for i in range(0, num_users):\n",
    "        self.addUser(user)\n",
    "        \n",
    "    # Create Friendships\n",
    "    total_friendships = num_users * avg_friendships\n",
    "    times_to_call_add_friendships = total_friendships // 2\n",
    "\n",
    "    user_ids = range(1, num_users + 1)\n",
    "        \n",
    "        # make a list of all possible friendship combos\n",
    "        # example using combination from itertools\n",
    "    #comb = combinations(user_ids, 2)\n",
    "    #combinations = list(comb)\n",
    "    \n",
    "        # make a list of all possible friendship combos\n",
    "    friends = []\n",
    "    for user in user_ids:\n",
    "        for friend in range(user + 1, num_users + 1):\n",
    "            friends.append(user, friend)\n",
    "            \n",
    "        # shuffle the list\n",
    "    random.shuffle(friends)\n",
    "    # Taking the x amoount of friendships calculated by \n",
    "    # finding the number of time sto call the add_friendship\n",
    "    # slice 0 - times_to_call_add_friendships\n",
    "    friends_to_make = friends[:times_to_call_add_friendships]\n",
    "    \n",
    "    for friendship in friends_to_make:\n",
    "        self.add_friendship(friendship[0], friendship[1])\n",
    "    \n",
    "    "
   ]
  },
  {
   "cell_type": "markdown",
   "metadata": {},
   "source": [
    "## Get All Social Paths\n",
    "1. get every user that is a friend of of the inputed user"
   ]
  },
  {
   "cell_type": "code",
   "execution_count": null,
   "metadata": {},
   "outputs": [],
   "source": [
    "# standar python library implementation of a queue\n",
    "import queue\n",
    "\n",
    "def getAllSocialPaths(self, userID):\n",
    "    \n",
    "    # create a queue instance\n",
    "   \n",
    "    q = q.Queue()\n",
    "    \n",
    "    # use a dict to keep track of visited\n",
    "    \n",
    "    visited = {}\n",
    "    \n",
    "    # add the userID to the queue as a starting point\n",
    "    \n",
    "    q.put(userID)\n",
    "    \n",
    "    # loop while there is a value in the queue\n",
    "    \n",
    "    while not q.empty():\n",
    "        # set current node to the value of q.get()\n",
    "        current_node = q.get()\n",
    "        \n",
    "        #check if the current node has been visited\n",
    "        if current_node not in visited:\n",
    "            # check for the userID in the values of \n",
    "            # self.friendships[current_node]\n",
    "            # keeps the input user from being added\n",
    "            \n",
    "            if userID in self.friendships[current_node]:\n",
    "                # add the visited\n",
    "                visited[current_node] = self.friendships[current_node]\n",
    "            \n",
    "            # get the friends of the current user / node\n",
    "            edges = self.friendships[current_node]\n",
    "            \n",
    "            # loop through friends checking for the userID\n",
    "            # aka they are a friend of the input user\n",
    "            \n",
    "            for e in edges:\n",
    "                if userID in self.friendships[e]:\n",
    "                    # add to the queue if they are a friend,\n",
    "                    # to be looped through\n",
    "                    \n",
    "                    q.put(e)\n",
    "            \n",
    "    return visited\n",
    "    "
   ]
  }
 ],
 "metadata": {
  "kernelspec": {
   "display_name": "Python 3",
   "language": "python",
   "name": "python3"
  },
  "language_info": {
   "codemirror_mode": {
    "name": "ipython",
    "version": 3
   },
   "file_extension": ".py",
   "mimetype": "text/x-python",
   "name": "python",
   "nbconvert_exporter": "python",
   "pygments_lexer": "ipython3",
   "version": "3.7.3"
  }
 },
 "nbformat": 4,
 "nbformat_minor": 4
}
