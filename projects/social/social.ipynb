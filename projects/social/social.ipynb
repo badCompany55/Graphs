{
 "cells": [
  {
   "cell_type": "markdown",
   "metadata": {},
   "source": [
    "## Create Populate Graph\n",
    "1. Takes in number of user and an average number of friends that  each user will have.\n",
    "2. Creates that number of users and a randomly distributed friendships between those users\n",
    "3. The number of users must be greater than the average number of friendships."
   ]
  },
  {
   "cell_type": "code",
   "execution_count": null,
   "metadata": {},
   "outputs": [],
   "source": [
    "from itertools import combinations\n",
    "import random\n",
    "\n",
    "def populate_graph(self, num_users, avg_friendships):\n",
    "    # Reset Graph\n",
    "    self.lastID = 0\n",
    "    self.users = {}\n",
    "    self.friendships = {}\n",
    "    \n",
    "    # Add users\n",
    "    for i in range(0, num_users):\n",
    "        self.addUser(user)\n",
    "        \n",
    "    # Create Friendships\n",
    "    total_friendships = num_users * avg_friendships\n",
    "    times_to_call_add_friendships = total_friendships // 2\n",
    "\n",
    "    user_ids = range(1, num_users + 1)\n",
    "        \n",
    "        # make a list of all possible friendship combos\n",
    "        # example using combination from itertools\n",
    "    #comb = combinations(user_ids, 2)\n",
    "    #combinations = list(comb)\n",
    "    \n",
    "        # make a list of all possible friendship combos\n",
    "    friends = []\n",
    "    for user in user_ids:\n",
    "        for friend in range(user + 1, num_users + 1):\n",
    "            friends.append(user, friend)\n",
    "            \n",
    "        # shuffle the list\n",
    "    random.shuffle(friends)\n",
    "    # Taking the x amoount of friendships calculated by \n",
    "    # finding the number of time sto call the add_friendship\n",
    "    # slice 0 - times_to_call_add_friendships\n",
    "    friends_to_make = friends[:times_to_call_add_friendships]\n",
    "    \n",
    "    for friendship in friends_to_make:\n",
    "        self.add_friendship(friendship[0], friendship[1])\n",
    "    \n",
    "    "
   ]
  },
  {
   "cell_type": "markdown",
   "metadata": {},
   "source": [
    "## Get All Social Paths\n",
    "1. get every user that is a friend of of the inputed user"
   ]
  },
  {
   "cell_type": "code",
   "execution_count": null,
   "metadata": {},
   "outputs": [],
   "source": [
    "def getAllSocialPaths(self, userID):\n",
    "    # use a dict to keep track of visited\n",
    "    \n",
    "    visited = {}\n",
    "    \n",
    "    # loop through friendships checking for \n",
    "    # the input users id in the values\n",
    "    # if it is in the values, add said user,\n",
    "    # to the visited\n",
    "    \n",
    "    for i, v in self.friendships.items():\n",
    "        if userID in self.friendships[i]:\n",
    "            visited[f'friend{i}'] = i\n",
    "            \n",
    "    return visited\n",
    "    "
   ]
  }
 ],
 "metadata": {
  "kernelspec": {
   "display_name": "Python 3",
   "language": "python",
   "name": "python3"
  },
  "language_info": {
   "codemirror_mode": {
    "name": "ipython",
    "version": 3
   },
   "file_extension": ".py",
   "mimetype": "text/x-python",
   "name": "python",
   "nbconvert_exporter": "python",
   "pygments_lexer": "ipython3",
   "version": "3.7.3"
  }
 },
 "nbformat": 4,
 "nbformat_minor": 4
}
